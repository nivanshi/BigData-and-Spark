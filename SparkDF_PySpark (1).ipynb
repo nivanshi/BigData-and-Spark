{
 "cells": [
  {
   "cell_type": "markdown",
   "metadata": {},
   "source": [
    "# Spark DataFrames"
   ]
  },
  {
   "cell_type": "markdown",
   "metadata": {},
   "source": [
    "#### Create a Spark Session"
   ]
  },
  {
   "cell_type": "code",
   "execution_count": 2,
   "metadata": {},
   "outputs": [],
   "source": [
    "import findspark\n",
    "findspark.init('c:\\spark')\n",
    "\n",
    "from pyspark.sql import SparkSession\n",
    "\n",
    "spark = SparkSession.builder.getOrCreate()"
   ]
  },
  {
   "cell_type": "markdown",
   "metadata": {},
   "source": [
    "#### Load orders data as a DataFrame"
   ]
  },
  {
   "cell_type": "code",
   "execution_count": 3,
   "metadata": {},
   "outputs": [
    {
     "name": "stdout",
     "output_type": "stream",
     "text": [
      "root\n",
      " |-- order_id: integer (nullable = true)\n",
      " |-- order_date: string (nullable = true)\n",
      " |-- order_customer_id: integer (nullable = true)\n",
      " |-- order_status: string (nullable = true)\n",
      "\n"
     ]
    }
   ],
   "source": [
    "import pyspark.sql.types as typ\n",
    "\n",
    "ordersSchema = [('order_id', typ.IntegerType())\n",
    "                , ('order_date', typ.StringType())\n",
    "                , ('order_customer_id', typ.IntegerType())\n",
    "                , ('order_status', typ.StringType())\n",
    "    \n",
    "]\n",
    "\n",
    "ordersSchema = typ.StructType([typ.StructField(e[0], e[1], True) for e in ordersSchema])\n",
    "\n",
    "ordersDF = spark.read.csv('../datasets/orders', schema=ordersSchema)\n",
    "\n",
    "ordersDF.printSchema()"
   ]
  },
  {
   "cell_type": "markdown",
   "metadata": {},
   "source": [
    "#### Filter data in DataFrame - where"
   ]
  },
  {
   "cell_type": "code",
   "execution_count": 5,
   "metadata": {
    "scrolled": true
   },
   "outputs": [
    {
     "name": "stdout",
     "output_type": "stream",
     "text": [
      "+--------+--------------------+-----------------+------------+\n",
      "|order_id|          order_date|order_customer_id|order_status|\n",
      "+--------+--------------------+-----------------+------------+\n",
      "|       1|2013-07-25 00:00:...|            11599|      CLOSED|\n",
      "|       4|2013-07-25 00:00:...|             8827|      CLOSED|\n",
      "|      12|2013-07-25 00:00:...|             1837|      CLOSED|\n",
      "|      18|2013-07-25 00:00:...|             1205|      CLOSED|\n",
      "|      24|2013-07-25 00:00:...|            11441|      CLOSED|\n",
      "|      25|2013-07-25 00:00:...|             9503|      CLOSED|\n",
      "|      37|2013-07-25 00:00:...|             5863|      CLOSED|\n",
      "|      51|2013-07-25 00:00:...|            12271|      CLOSED|\n",
      "|      57|2013-07-25 00:00:...|             7073|      CLOSED|\n",
      "|      61|2013-07-25 00:00:...|             4791|      CLOSED|\n",
      "|      62|2013-07-25 00:00:...|             9111|      CLOSED|\n",
      "|      87|2013-07-25 00:00:...|             3065|      CLOSED|\n",
      "|      90|2013-07-25 00:00:...|             9131|      CLOSED|\n",
      "|     101|2013-07-25 00:00:...|             5116|      CLOSED|\n",
      "|     116|2013-07-26 00:00:...|             8763|      CLOSED|\n",
      "|     129|2013-07-26 00:00:...|             9937|      CLOSED|\n",
      "|     133|2013-07-26 00:00:...|            10604|      CLOSED|\n",
      "|     191|2013-07-26 00:00:...|               16|      CLOSED|\n",
      "|     201|2013-07-26 00:00:...|             9055|      CLOSED|\n",
      "|     211|2013-07-26 00:00:...|            10372|      CLOSED|\n",
      "+--------+--------------------+-----------------+------------+\n",
      "only showing top 20 rows\n",
      "\n"
     ]
    }
   ],
   "source": [
    "ordersDF.where(\"order_status = 'CLOSED'\").show()"
   ]
  },
  {
   "cell_type": "markdown",
   "metadata": {},
   "source": [
    "#### Filter Data using Filter"
   ]
  },
  {
   "cell_type": "code",
   "execution_count": 6,
   "metadata": {},
   "outputs": [
    {
     "name": "stdout",
     "output_type": "stream",
     "text": [
      "+--------+--------------------+-----------------+------------+\n",
      "|order_id|          order_date|order_customer_id|order_status|\n",
      "+--------+--------------------+-----------------+------------+\n",
      "|       1|2013-07-25 00:00:...|            11599|      CLOSED|\n",
      "|       4|2013-07-25 00:00:...|             8827|      CLOSED|\n",
      "|      12|2013-07-25 00:00:...|             1837|      CLOSED|\n",
      "|      18|2013-07-25 00:00:...|             1205|      CLOSED|\n",
      "|      24|2013-07-25 00:00:...|            11441|      CLOSED|\n",
      "|      25|2013-07-25 00:00:...|             9503|      CLOSED|\n",
      "|      37|2013-07-25 00:00:...|             5863|      CLOSED|\n",
      "|      51|2013-07-25 00:00:...|            12271|      CLOSED|\n",
      "|      57|2013-07-25 00:00:...|             7073|      CLOSED|\n",
      "|      61|2013-07-25 00:00:...|             4791|      CLOSED|\n",
      "|      62|2013-07-25 00:00:...|             9111|      CLOSED|\n",
      "|      87|2013-07-25 00:00:...|             3065|      CLOSED|\n",
      "|      90|2013-07-25 00:00:...|             9131|      CLOSED|\n",
      "|     101|2013-07-25 00:00:...|             5116|      CLOSED|\n",
      "|     116|2013-07-26 00:00:...|             8763|      CLOSED|\n",
      "|     129|2013-07-26 00:00:...|             9937|      CLOSED|\n",
      "|     133|2013-07-26 00:00:...|            10604|      CLOSED|\n",
      "|     191|2013-07-26 00:00:...|               16|      CLOSED|\n",
      "|     201|2013-07-26 00:00:...|             9055|      CLOSED|\n",
      "|     211|2013-07-26 00:00:...|            10372|      CLOSED|\n",
      "+--------+--------------------+-----------------+------------+\n",
      "only showing top 20 rows\n",
      "\n"
     ]
    }
   ],
   "source": [
    "ordersDF.filter(\"order_status = 'CLOSED'\").show()"
   ]
  },
  {
   "cell_type": "markdown",
   "metadata": {},
   "source": [
    "#### Aggregating data in DataFrames"
   ]
  },
  {
   "cell_type": "code",
   "execution_count": 7,
   "metadata": {},
   "outputs": [
    {
     "name": "stdout",
     "output_type": "stream",
     "text": [
      "+---------------+-----+\n",
      "|   order_status|count|\n",
      "+---------------+-----+\n",
      "|PENDING_PAYMENT|15030|\n",
      "|       COMPLETE|22899|\n",
      "|        ON_HOLD| 3798|\n",
      "| PAYMENT_REVIEW|  729|\n",
      "|     PROCESSING| 8275|\n",
      "|         CLOSED| 7556|\n",
      "|SUSPECTED_FRAUD| 1558|\n",
      "|        PENDING| 7610|\n",
      "|       CANCELED| 1428|\n",
      "+---------------+-----+\n",
      "\n"
     ]
    }
   ],
   "source": [
    "ordersDF.groupBy('order_status').count().show()"
   ]
  },
  {
   "cell_type": "markdown",
   "metadata": {},
   "source": [
    "#### Distinct order status"
   ]
  },
  {
   "cell_type": "code",
   "execution_count": 8,
   "metadata": {},
   "outputs": [
    {
     "name": "stdout",
     "output_type": "stream",
     "text": [
      "+---------------+\n",
      "|   order_status|\n",
      "+---------------+\n",
      "|PENDING_PAYMENT|\n",
      "|       COMPLETE|\n",
      "|        ON_HOLD|\n",
      "| PAYMENT_REVIEW|\n",
      "|     PROCESSING|\n",
      "|         CLOSED|\n",
      "|SUSPECTED_FRAUD|\n",
      "|        PENDING|\n",
      "|       CANCELED|\n",
      "+---------------+\n",
      "\n"
     ]
    }
   ],
   "source": [
    "ordersDF.select('order_status').distinct().show()"
   ]
  },
  {
   "cell_type": "markdown",
   "metadata": {},
   "source": [
    "#### Count by order status"
   ]
  },
  {
   "cell_type": "code",
   "execution_count": 9,
   "metadata": {},
   "outputs": [
    {
     "name": "stdout",
     "output_type": "stream",
     "text": [
      "+---------------+-----+\n",
      "|   order_status|count|\n",
      "+---------------+-----+\n",
      "|PENDING_PAYMENT|15030|\n",
      "|       COMPLETE|22899|\n",
      "|        ON_HOLD| 3798|\n",
      "| PAYMENT_REVIEW|  729|\n",
      "|     PROCESSING| 8275|\n",
      "|         CLOSED| 7556|\n",
      "|SUSPECTED_FRAUD| 1558|\n",
      "|        PENDING| 7610|\n",
      "|       CANCELED| 1428|\n",
      "+---------------+-----+\n",
      "\n"
     ]
    }
   ],
   "source": [
    "ordersDF.groupBy('order_status').count().show()"
   ]
  },
  {
   "cell_type": "markdown",
   "metadata": {},
   "source": [
    "### Dropping columns"
   ]
  },
  {
   "cell_type": "code",
   "execution_count": 10,
   "metadata": {},
   "outputs": [
    {
     "name": "stdout",
     "output_type": "stream",
     "text": [
      "+--------+-----------------+---------------+\n",
      "|order_id|order_customer_id|   order_status|\n",
      "+--------+-----------------+---------------+\n",
      "|       1|            11599|         CLOSED|\n",
      "|       2|              256|PENDING_PAYMENT|\n",
      "|       3|            12111|       COMPLETE|\n",
      "|       4|             8827|         CLOSED|\n",
      "|       5|            11318|       COMPLETE|\n",
      "|       6|             7130|       COMPLETE|\n",
      "|       7|             4530|       COMPLETE|\n",
      "|       8|             2911|     PROCESSING|\n",
      "|       9|             5657|PENDING_PAYMENT|\n",
      "|      10|             5648|PENDING_PAYMENT|\n",
      "|      11|              918| PAYMENT_REVIEW|\n",
      "|      12|             1837|         CLOSED|\n",
      "|      13|             9149|PENDING_PAYMENT|\n",
      "|      14|             9842|     PROCESSING|\n",
      "|      15|             2568|       COMPLETE|\n",
      "|      16|             7276|PENDING_PAYMENT|\n",
      "|      17|             2667|       COMPLETE|\n",
      "|      18|             1205|         CLOSED|\n",
      "|      19|             9488|PENDING_PAYMENT|\n",
      "|      20|             9198|     PROCESSING|\n",
      "+--------+-----------------+---------------+\n",
      "only showing top 20 rows\n",
      "\n"
     ]
    }
   ],
   "source": [
    "ordersDF.drop('order_date').show()"
   ]
  },
  {
   "cell_type": "markdown",
   "metadata": {},
   "source": [
    "### Renaming columns"
   ]
  },
  {
   "cell_type": "markdown",
   "metadata": {},
   "source": [
    "##### Rename columns using select"
   ]
  },
  {
   "cell_type": "code",
   "execution_count": 11,
   "metadata": {
    "scrolled": true
   },
   "outputs": [
    {
     "name": "stdout",
     "output_type": "stream",
     "text": [
      "+-----+\n",
      "|  cid|\n",
      "+-----+\n",
      "|11599|\n",
      "|  256|\n",
      "|12111|\n",
      "| 8827|\n",
      "|11318|\n",
      "| 7130|\n",
      "| 4530|\n",
      "| 2911|\n",
      "| 5657|\n",
      "| 5648|\n",
      "+-----+\n",
      "only showing top 10 rows\n",
      "\n"
     ]
    }
   ],
   "source": [
    "import pyspark.sql.functions as f\n",
    "\n",
    "ordersDF.select(f.col('order_customer_id').alias('cid')).show(10)"
   ]
  },
  {
   "cell_type": "markdown",
   "metadata": {},
   "source": [
    "##### Rename columns using withColumnRenamed"
   ]
  },
  {
   "cell_type": "code",
   "execution_count": 13,
   "metadata": {},
   "outputs": [
    {
     "name": "stdout",
     "output_type": "stream",
     "text": [
      "+--------+--------------------+-----+---------------+\n",
      "|order_id|          order_date|  cid|   order_status|\n",
      "+--------+--------------------+-----+---------------+\n",
      "|       1|2013-07-25 00:00:...|11599|         CLOSED|\n",
      "|       2|2013-07-25 00:00:...|  256|PENDING_PAYMENT|\n",
      "|       3|2013-07-25 00:00:...|12111|       COMPLETE|\n",
      "|       4|2013-07-25 00:00:...| 8827|         CLOSED|\n",
      "|       5|2013-07-25 00:00:...|11318|       COMPLETE|\n",
      "|       6|2013-07-25 00:00:...| 7130|       COMPLETE|\n",
      "|       7|2013-07-25 00:00:...| 4530|       COMPLETE|\n",
      "|       8|2013-07-25 00:00:...| 2911|     PROCESSING|\n",
      "|       9|2013-07-25 00:00:...| 5657|PENDING_PAYMENT|\n",
      "|      10|2013-07-25 00:00:...| 5648|PENDING_PAYMENT|\n",
      "|      11|2013-07-25 00:00:...|  918| PAYMENT_REVIEW|\n",
      "|      12|2013-07-25 00:00:...| 1837|         CLOSED|\n",
      "|      13|2013-07-25 00:00:...| 9149|PENDING_PAYMENT|\n",
      "|      14|2013-07-25 00:00:...| 9842|     PROCESSING|\n",
      "|      15|2013-07-25 00:00:...| 2568|       COMPLETE|\n",
      "|      16|2013-07-25 00:00:...| 7276|PENDING_PAYMENT|\n",
      "|      17|2013-07-25 00:00:...| 2667|       COMPLETE|\n",
      "|      18|2013-07-25 00:00:...| 1205|         CLOSED|\n",
      "|      19|2013-07-25 00:00:...| 9488|PENDING_PAYMENT|\n",
      "|      20|2013-07-25 00:00:...| 9198|     PROCESSING|\n",
      "+--------+--------------------+-----+---------------+\n",
      "only showing top 20 rows\n",
      "\n"
     ]
    }
   ],
   "source": [
    "ordersDF.withColumnRenamed('order_customer_id', 'cid').show()"
   ]
  },
  {
   "cell_type": "markdown",
   "metadata": {},
   "source": [
    "### Load order items data into DataFrammes"
   ]
  },
  {
   "cell_type": "code",
   "execution_count": 14,
   "metadata": {},
   "outputs": [
    {
     "name": "stdout",
     "output_type": "stream",
     "text": [
      "root\n",
      " |-- order_item_id: integer (nullable = true)\n",
      " |-- order_item_order_id: integer (nullable = true)\n",
      " |-- order_item_product_id: integer (nullable = true)\n",
      " |-- order_item_quantity: integer (nullable = true)\n",
      " |-- order_item_subtotal: float (nullable = true)\n",
      " |-- order_item_product_price: float (nullable = true)\n",
      "\n"
     ]
    }
   ],
   "source": [
    "orderItemsSchema = [('order_item_id', typ.IntegerType())\n",
    "                    , ('order_item_order_id', typ.IntegerType())\n",
    "                    , ('order_item_product_id', typ.IntegerType())\n",
    "                    , ('order_item_quantity', typ.IntegerType())\n",
    "                    , ('order_item_subtotal', typ.FloatType())\n",
    "                    , ('order_item_product_price', typ.FloatType())\n",
    "    \n",
    "]\n",
    "\n",
    "orderItemsSchema = typ.StructType([typ.StructField(e[0], e[1], True) for e in orderItemsSchema])\n",
    "\n",
    "orderItemsDF = spark.read.csv('../datasets/order_items', schema=orderItemsSchema)\n",
    "\n",
    "orderItemsDF.printSchema()"
   ]
  },
  {
   "cell_type": "markdown",
   "metadata": {},
   "source": [
    "#### aggregations"
   ]
  },
  {
   "cell_type": "code",
   "execution_count": 15,
   "metadata": {},
   "outputs": [
    {
     "name": "stdout",
     "output_type": "stream",
     "text": [
      "+------------------------+\n",
      "|avg(order_item_subtotal)|\n",
      "+------------------------+\n",
      "|      199.32066922046081|\n",
      "+------------------------+\n",
      "\n"
     ]
    }
   ],
   "source": [
    "orderItemsDF.agg(\n",
    "    {\n",
    "        'order_item_subtotal': 'avg'\n",
    "    }\n",
    ").show()"
   ]
  },
  {
   "cell_type": "code",
   "execution_count": 16,
   "metadata": {},
   "outputs": [
    {
     "name": "stdout",
     "output_type": "stream",
     "text": [
      "+------------------------+\n",
      "|sum(order_item_subtotal)|\n",
      "+------------------------+\n",
      "|     3.432262059842491E7|\n",
      "+------------------------+\n",
      "\n"
     ]
    }
   ],
   "source": [
    "orderItemsDF.agg(\n",
    "    {\n",
    "        'order_item_subtotal': 'avg',\n",
    "        'order_item_subtotal': 'sum'\n",
    "    }\n",
    ").show()"
   ]
  },
  {
   "cell_type": "markdown",
   "metadata": {},
   "source": [
    "#### Multiple aggregations"
   ]
  },
  {
   "cell_type": "code",
   "execution_count": 17,
   "metadata": {
    "scrolled": true
   },
   "outputs": [
    {
     "name": "stdout",
     "output_type": "stream",
     "text": [
      "+------------+------------+-------------------+------------------+------------------+------------------+--------------+\n",
      "|subtotal_min|subtotal_max|       subtotal_sum|      subtotal_avg|     subtotal_mean|   subtotal_stddev|subtotal_count|\n",
      "+------------+------------+-------------------+------------------+------------------+------------------+--------------+\n",
      "|        9.99|     1999.99|3.432262059842491E7|199.32066922046081|199.32066922046081|112.74303987146804|        172198|\n",
      "+------------+------------+-------------------+------------------+------------------+------------------+--------------+\n",
      "\n"
     ]
    }
   ],
   "source": [
    "aggregations = [\n",
    "    ('order_item_subtotal', f.min, 'subtotal_min')\n",
    "    , ('order_item_subtotal', f.max, 'subtotal_max')\n",
    "    , ('order_item_subtotal', f.sum, 'subtotal_sum')\n",
    "    , ('order_item_subtotal', f.avg, 'subtotal_avg')\n",
    "    , ('order_item_subtotal', f.mean, 'subtotal_mean')\n",
    "    , ('order_item_subtotal', f.stddev, 'subtotal_stddev')\n",
    "    , ('order_item_subtotal', f.count, 'subtotal_count')\n",
    "]\n",
    "\n",
    "(\n",
    "    orderItemsDF\n",
    "    .agg(*[e[1](e[0]).alias(e[2]) for e in aggregations])\n",
    "    .show()\n",
    ")"
   ]
  },
  {
   "cell_type": "markdown",
   "metadata": {},
   "source": [
    "#### Multiple aggregations using SQL"
   ]
  },
  {
   "cell_type": "code",
   "execution_count": 18,
   "metadata": {},
   "outputs": [
    {
     "name": "stdout",
     "output_type": "stream",
     "text": [
      "+------------+------------+-------------------+------------------+------------------+------------------+--------------+\n",
      "|subtotal_min|subtotal_max|       subtotal_sum|      subtotal_avg|     subtotal_mean|   subtotal_stddev|subtotal_count|\n",
      "+------------+------------+-------------------+------------------+------------------+------------------+--------------+\n",
      "|        9.99|     1999.99|3.432262059842491E7|199.32066922046081|199.32066922046081|112.74303987146804|        172198|\n",
      "+------------+------------+-------------------+------------------+------------------+------------------+--------------+\n",
      "\n"
     ]
    }
   ],
   "source": [
    "orderItemsDF.createOrReplaceTempView(\"order_items\")\n",
    "\n",
    "(\n",
    "    spark\n",
    "    .sql('''\n",
    "        SELECT \n",
    "            MIN(order_item_subtotal) AS subtotal_min\n",
    "            , MAX(order_item_subtotal) AS subtotal_max\n",
    "            , SUM(order_item_subtotal) AS subtotal_sum\n",
    "            , AVG(order_item_subtotal) AS subtotal_avg\n",
    "            , MEAN(order_item_subtotal) AS subtotal_mean\n",
    "            , STDDEV(order_item_subtotal) AS subtotal_stddev\n",
    "            , COUNT(order_item_subtotal) AS subtotal_count\n",
    "        FROM order_items\n",
    "    ''')\n",
    ").show()"
   ]
  },
  {
   "cell_type": "markdown",
   "metadata": {},
   "source": [
    "#### Revenue for order_id 2"
   ]
  },
  {
   "cell_type": "code",
   "execution_count": 22,
   "metadata": {},
   "outputs": [
    {
     "name": "stdout",
     "output_type": "stream",
     "text": [
      "+-------------+-------------------+---------------------+-------------------+-------------------+------------------------+\n",
      "|order_item_id|order_item_order_id|order_item_product_id|order_item_quantity|order_item_subtotal|order_item_product_price|\n",
      "+-------------+-------------------+---------------------+-------------------+-------------------+------------------------+\n",
      "|            2|                  2|                 1073|                  1|             199.99|                  199.99|\n",
      "|            3|                  2|                  502|                  5|              250.0|                    50.0|\n",
      "|            4|                  2|                  403|                  1|             129.99|                  129.99|\n",
      "+-------------+-------------------+---------------------+-------------------+-------------------+------------------------+\n",
      "\n",
      "+-------+\n",
      "|Revenue|\n",
      "+-------+\n",
      "| 579.98|\n",
      "+-------+\n",
      "\n"
     ]
    }
   ],
   "source": [
    "from pyspark.sql.functions import round\n",
    "\n",
    "orderItemsDF.filter('order_item_order_id = 2').show()\n",
    "\n",
    "orderItemsDF.filter('order_item_order_id = 2').agg(round(f.sum('order_item_subtotal'), 2).alias('Revenue')).show()"
   ]
  },
  {
   "cell_type": "markdown",
   "metadata": {},
   "source": [
    "#### Revenue per orderID"
   ]
  },
  {
   "cell_type": "code",
   "execution_count": 23,
   "metadata": {},
   "outputs": [
    {
     "name": "stdout",
     "output_type": "stream",
     "text": [
      "+-------------------+-------+\n",
      "|order_item_order_id|Revenue|\n",
      "+-------------------+-------+\n",
      "|                148| 479.99|\n",
      "|                463| 829.92|\n",
      "|                471| 169.98|\n",
      "|                496| 441.95|\n",
      "|               1088| 249.97|\n",
      "|               1580| 299.95|\n",
      "|               1591| 439.86|\n",
      "|               1645|1509.79|\n",
      "|               2366| 299.97|\n",
      "|               2659| 724.91|\n",
      "|               2866| 569.96|\n",
      "|               3175| 209.97|\n",
      "|               3749| 143.97|\n",
      "|               3794| 299.95|\n",
      "|               3918| 829.93|\n",
      "|               3997| 579.95|\n",
      "|               4101| 129.99|\n",
      "|               4519|  79.98|\n",
      "|               4818| 399.98|\n",
      "|               4900| 179.97|\n",
      "+-------------------+-------+\n",
      "only showing top 20 rows\n",
      "\n"
     ]
    }
   ],
   "source": [
    "orderItemsDF.groupBy('order_item_order_id').agg(round(f.sum('order_item_subtotal'), 2).alias('Revenue')).show()"
   ]
  },
  {
   "cell_type": "markdown",
   "metadata": {},
   "source": [
    "#### Daily product revenue"
   ]
  },
  {
   "cell_type": "code",
   "execution_count": 26,
   "metadata": {
    "scrolled": true
   },
   "outputs": [
    {
     "name": "stdout",
     "output_type": "stream",
     "text": [
      "root\n",
      " |-- order_id: integer (nullable = true)\n",
      " |-- order_date: string (nullable = true)\n",
      " |-- order_customer_id: integer (nullable = true)\n",
      " |-- order_status: string (nullable = true)\n",
      " |-- order_item_id: integer (nullable = true)\n",
      " |-- order_item_order_id: integer (nullable = true)\n",
      " |-- order_item_product_id: integer (nullable = true)\n",
      " |-- order_item_quantity: integer (nullable = true)\n",
      " |-- order_item_subtotal: float (nullable = true)\n",
      " |-- order_item_product_price: float (nullable = true)\n",
      "\n",
      "+--------------------+---------------------+--------+\n",
      "|          order_date|order_item_product_id| Revenue|\n",
      "+--------------------+---------------------+--------+\n",
      "|2013-07-27 00:00:...|                  703|   99.95|\n",
      "|2013-07-29 00:00:...|                  793|   44.97|\n",
      "|2013-08-04 00:00:...|                  825|   95.97|\n",
      "|2013-08-06 00:00:...|                   93|   24.99|\n",
      "|2013-08-12 00:00:...|                  627| 5358.66|\n",
      "|2013-08-15 00:00:...|                  926|   15.99|\n",
      "|2013-08-17 00:00:...|                  116|  224.95|\n",
      "|2013-09-04 00:00:...|                  957|  7499.5|\n",
      "|2013-09-07 00:00:...|                  235|  104.97|\n",
      "|2013-09-17 00:00:...|                  792|   89.94|\n",
      "|2013-09-25 00:00:...|                   44|  359.94|\n",
      "|2013-09-27 00:00:...|                  276|   31.99|\n",
      "|2013-09-28 00:00:...|                  572|  119.97|\n",
      "|2013-10-04 00:00:...|                  792|   44.97|\n",
      "|2013-10-05 00:00:...|                  886|   24.99|\n",
      "|2013-10-14 00:00:...|                  835|   31.99|\n",
      "|2013-10-16 00:00:...|                  835|   31.99|\n",
      "|2013-10-19 00:00:...|                 1004|18399.08|\n",
      "|2013-11-06 00:00:...|                  502|  9750.0|\n",
      "|2013-11-12 00:00:...|                  282|   63.98|\n",
      "+--------------------+---------------------+--------+\n",
      "only showing top 20 rows\n",
      "\n"
     ]
    }
   ],
   "source": [
    "ordersJoin = ordersDF.join(orderItemsDF, ordersDF.order_id == orderItemsDF.order_item_order_id)\n",
    "\n",
    "ordersJoin.printSchema()\n",
    "\n",
    "ordersJoin.groupBy('order_date', 'order_item_product_id').agg(round(f.sum('order_item_subtotal'), 2).alias('Revenue')).show()\n"
   ]
  },
  {
   "cell_type": "markdown",
   "metadata": {},
   "source": [
    "#### Sort Data - Descending by Subtotal"
   ]
  },
  {
   "cell_type": "code",
   "execution_count": 28,
   "metadata": {},
   "outputs": [
    {
     "name": "stdout",
     "output_type": "stream",
     "text": [
      "+--------------------+---------------------+--------+\n",
      "|          order_date|order_item_product_id|SubTotal|\n",
      "+--------------------+---------------------+--------+\n",
      "|2013-11-03 00:00:...|                 1004|43197.84|\n",
      "|2014-06-19 00:00:...|                 1004| 33998.3|\n",
      "|2013-11-07 00:00:...|                 1004|33198.34|\n",
      "|2013-10-13 00:00:...|                 1004|32398.38|\n",
      "|2013-11-29 00:00:...|                 1004|31598.42|\n",
      "|2014-07-20 00:00:...|                 1004|31598.42|\n",
      "|2014-05-06 00:00:...|                 1004|31198.44|\n",
      "|2014-02-01 00:00:...|                 1004|31198.44|\n",
      "|2014-05-16 00:00:...|                 1004|31198.44|\n",
      "|2014-02-19 00:00:...|                 1004|30798.46|\n",
      "|2014-01-11 00:00:...|                 1004|30798.46|\n",
      "|2014-07-15 00:00:...|                 1004|30398.48|\n",
      "|2014-01-30 00:00:...|                 1004|30398.48|\n",
      "|2013-09-06 00:00:...|                 1004| 29998.5|\n",
      "|2014-05-12 00:00:...|                 1004| 29998.5|\n",
      "|2014-04-03 00:00:...|                 1004| 29998.5|\n",
      "|2013-10-06 00:00:...|                 1004|29598.52|\n",
      "|2013-11-24 00:00:...|                 1004|29598.52|\n",
      "|2013-07-29 00:00:...|                 1004|29598.52|\n",
      "|2013-08-01 00:00:...|                 1004|29198.54|\n",
      "+--------------------+---------------------+--------+\n",
      "only showing top 20 rows\n",
      "\n"
     ]
    }
   ],
   "source": [
    "(\n",
    "    ordersJoin\n",
    "        .groupBy('order_date', 'order_item_product_id')\n",
    "        .agg(round(f.sum('order_item_subtotal'), 2).alias('SubTotal'))\n",
    "        .sort('SubTotal', ascending=0).show()\n",
    ")"
   ]
  },
  {
   "cell_type": "markdown",
   "metadata": {},
   "source": [
    "#### Sort - Daily Product Revenue ascending by order date and descending by subtotal"
   ]
  },
  {
   "cell_type": "code",
   "execution_count": 30,
   "metadata": {},
   "outputs": [
    {
     "name": "stdout",
     "output_type": "stream",
     "text": [
      "+--------------------+---------------------+--------+\n",
      "|          order_date|order_item_product_id|SubTotal|\n",
      "+--------------------+---------------------+--------+\n",
      "|2013-07-25 00:00:...|                 1004|10799.46|\n",
      "|2013-07-25 00:00:...|                  957| 9599.36|\n",
      "|2013-07-25 00:00:...|                  191| 8499.15|\n",
      "|2013-07-25 00:00:...|                  365| 7558.74|\n",
      "|2013-07-25 00:00:...|                 1073| 6999.65|\n",
      "|2013-07-25 00:00:...|                 1014| 6397.44|\n",
      "|2013-07-25 00:00:...|                  403| 5589.57|\n",
      "|2013-07-25 00:00:...|                  502|  5100.0|\n",
      "|2013-07-25 00:00:...|                  627| 2879.28|\n",
      "|2013-07-25 00:00:...|                  226|  599.99|\n",
      "|2013-07-25 00:00:...|                   24|  319.96|\n",
      "|2013-07-25 00:00:...|                  982|  299.98|\n",
      "|2013-07-25 00:00:...|                  981|   297.0|\n",
      "|2013-07-25 00:00:...|                  276|  255.92|\n",
      "|2013-07-25 00:00:...|                  705|  239.98|\n",
      "|2013-07-25 00:00:...|                  691|  239.97|\n",
      "|2013-07-25 00:00:...|                  666|  219.98|\n",
      "|2013-07-25 00:00:...|                  725|   216.0|\n",
      "|2013-07-25 00:00:...|                  821|  207.96|\n",
      "|2013-07-25 00:00:...|                  625|  199.99|\n",
      "|2013-07-25 00:00:...|                  858|  199.99|\n",
      "|2013-07-25 00:00:...|                  886|  174.93|\n",
      "|2013-07-25 00:00:...|                  825|  127.96|\n",
      "|2013-07-25 00:00:...|                  897|  124.95|\n",
      "|2013-07-25 00:00:...|                  572|  119.97|\n",
      "|2013-07-25 00:00:...|                  134|   100.0|\n",
      "|2013-07-25 00:00:...|                  906|   99.96|\n",
      "|2013-07-25 00:00:...|                  778|   99.96|\n",
      "|2013-07-25 00:00:...|                  828|   95.97|\n",
      "|2013-07-25 00:00:...|                  810|   79.96|\n",
      "|2013-07-25 00:00:...|                  924|   79.95|\n",
      "|2013-07-25 00:00:...|                  926|   79.95|\n",
      "|2013-07-25 00:00:...|                   93|   74.97|\n",
      "|2013-07-25 00:00:...|                   37|   69.98|\n",
      "|2013-07-25 00:00:...|                  835|   63.98|\n",
      "|2013-07-25 00:00:...|                  917|   21.99|\n",
      "|2013-07-25 00:00:...|                  775|   19.98|\n",
      "|2013-07-26 00:00:...|                 1004|28798.56|\n",
      "|2013-07-26 00:00:...|                  365| 20996.5|\n",
      "|2013-07-26 00:00:...|                  957|16798.88|\n",
      "|2013-07-26 00:00:...|                  191| 14998.5|\n",
      "|2013-07-26 00:00:...|                 1073|10799.46|\n",
      "|2013-07-26 00:00:...|                  403|10529.19|\n",
      "|2013-07-26 00:00:...|                  502| 10500.0|\n",
      "|2013-07-26 00:00:...|                 1014|10095.96|\n",
      "|2013-07-26 00:00:...|                  627| 6038.49|\n",
      "|2013-07-26 00:00:...|                  981|   495.0|\n",
      "|2013-07-26 00:00:...|                  278|  404.91|\n",
      "|2013-07-26 00:00:...|                  691|  399.95|\n",
      "|2013-07-26 00:00:...|                  835|  383.88|\n",
      "|2013-07-26 00:00:...|                  771|  359.91|\n",
      "|2013-07-26 00:00:...|                  818|  335.93|\n",
      "|2013-07-26 00:00:...|                  724|   300.0|\n",
      "|2013-07-26 00:00:...|                  565|   280.0|\n",
      "|2013-07-26 00:00:...|                  306|  269.97|\n",
      "|2013-07-26 00:00:...|                  917|  263.88|\n",
      "|2013-07-26 00:00:...|                  135|   242.0|\n",
      "|2013-07-26 00:00:...|                  822|  239.95|\n",
      "|2013-07-26 00:00:...|                  821|  207.96|\n",
      "|2013-07-26 00:00:...|                  172|   180.0|\n",
      "|2013-07-26 00:00:...|                  116|  179.96|\n",
      "|2013-07-26 00:00:...|                  282|  159.95|\n",
      "|2013-07-26 00:00:...|                  804|  159.92|\n",
      "|2013-07-26 00:00:...|                  564|   150.0|\n",
      "|2013-07-26 00:00:...|                  982|  149.99|\n",
      "|2013-07-26 00:00:...|                  235|  139.96|\n",
      "|2013-07-26 00:00:...|                  652|  129.99|\n",
      "|2013-07-26 00:00:...|                  828|  127.96|\n",
      "|2013-07-26 00:00:...|                  567|   125.0|\n",
      "|2013-07-26 00:00:...|                  134|   125.0|\n",
      "|2013-07-26 00:00:...|                   93|  124.95|\n",
      "|2013-07-26 00:00:...|                  642|   120.0|\n",
      "|2013-07-26 00:00:...|                  823|  103.98|\n",
      "|2013-07-26 00:00:...|                  646|   99.99|\n",
      "|2013-07-26 00:00:...|                  977|   89.97|\n",
      "|2013-07-26 00:00:...|                  797|   89.95|\n",
      "|2013-07-26 00:00:...|                  792|   89.94|\n",
      "|2013-07-26 00:00:...|                  775|   79.92|\n",
      "|2013-07-26 00:00:...|                  905|   74.97|\n",
      "|2013-07-26 00:00:...|                  778|   74.97|\n",
      "|2013-07-26 00:00:...|                  897|   74.97|\n",
      "|2013-07-26 00:00:...|                  276|   63.98|\n",
      "|2013-07-26 00:00:...|                  906|   49.98|\n",
      "|2013-07-26 00:00:...|                  924|   15.99|\n",
      "|2013-07-27 00:00:...|                 1004| 21998.9|\n",
      "|2013-07-27 00:00:...|                  957|14399.04|\n",
      "|2013-07-27 00:00:...|                  191|10698.93|\n",
      "|2013-07-27 00:00:...|                 1073|10399.48|\n",
      "|2013-07-27 00:00:...|                  365|10078.32|\n",
      "|2013-07-27 00:00:...|                 1014|  9746.1|\n",
      "|2013-07-27 00:00:...|                  502|  7600.0|\n",
      "|2013-07-27 00:00:...|                  403| 7539.42|\n",
      "|2013-07-27 00:00:...|                  627| 4038.99|\n",
      "|2013-07-27 00:00:...|                  728|   585.0|\n",
      "|2013-07-27 00:00:...|                  821|  571.89|\n",
      "|2013-07-27 00:00:...|                  203|  399.99|\n",
      "|2013-07-27 00:00:...|                  828|  223.93|\n",
      "|2013-07-27 00:00:...|                  565|   210.0|\n",
      "|2013-07-27 00:00:...|                  771|  199.95|\n",
      "|2013-07-27 00:00:...|                  572|  199.95|\n",
      "+--------------------+---------------------+--------+\n",
      "only showing top 100 rows\n",
      "\n"
     ]
    }
   ],
   "source": [
    "(\n",
    "    ordersJoin\n",
    "        .groupBy('order_date', 'order_item_product_id')\n",
    "        .agg(round(f.sum('order_item_subtotal'), 2).alias('SubTotal'))\n",
    "        .sort(['order_date', 'SubTotal'], ascending=[1,0])\n",
    "        .show(100)\n",
    ")"
   ]
  },
  {
   "cell_type": "markdown",
   "metadata": {},
   "source": [
    "# Schema changes"
   ]
  },
  {
   "cell_type": "markdown",
   "metadata": {},
   "source": [
    "#### Load SampleData"
   ]
  },
  {
   "cell_type": "code",
   "execution_count": 31,
   "metadata": {},
   "outputs": [
    {
     "name": "stdout",
     "output_type": "stream",
     "text": [
      "root\n",
      " |-- OrderDate: string (nullable = true)\n",
      " |-- Region: string (nullable = true)\n",
      " |-- Rep: string (nullable = true)\n",
      " |-- Item: string (nullable = true)\n",
      " |-- Units: integer (nullable = true)\n",
      " |-- UnitCost: double (nullable = true)\n",
      " |-- Total: double (nullable = true)\n",
      "\n",
      "+----------+-------+--------+-------+-----+--------+-------+\n",
      "| OrderDate| Region|     Rep|   Item|Units|UnitCost|  Total|\n",
      "+----------+-------+--------+-------+-----+--------+-------+\n",
      "|    1/6/16|   East|   Jones| Pencil|   95|    1.99| 189.05|\n",
      "|2017-03-02|Central|  Kivell| Binder|   50|   19.99|  999.5|\n",
      "|    2/9/16|Central| Jardine| Pencil|   36|    4.99| 179.64|\n",
      "|   2/26/16|Central|    Gill|    Pen|   27|   19.99| 539.73|\n",
      "|   3/15/16|   West| Sorvino| Pencil|   56|    2.99| 167.44|\n",
      "|    4/1/16|   East|   Jones| Binder|   60|    4.99|  299.4|\n",
      "|   4/18/16|Central| Andrews| Pencil|   75|    1.99| 149.25|\n",
      "|    5/5/16|Central| Jardine| Pencil|   90|    4.99|  449.1|\n",
      "|   5/22/16|   West|Thompson| Pencil|   32|    1.99|  63.68|\n",
      "|    6/8/16|   East|   Jones| Binder|   60|    8.99|  539.4|\n",
      "|   6/25/16|Central|  Morgan| Pencil|   90|    4.99|  449.1|\n",
      "|   7/12/16|   East|  Howard| Binder|   29|    1.99|  57.71|\n",
      "|   7/29/16|   East|  Parent| Binder|   81|   19.99|1619.19|\n",
      "|   8/15/16|   East|   Jones| Pencil|   35|    4.99| 174.65|\n",
      "|    9/1/16|Central|   Smith|   Desk|    2|   125.0|  250.0|\n",
      "|   9/18/16|   East|   Jones|Pen Set|   16|   15.99| 255.84|\n",
      "|   10/5/16|Central|  Morgan| Binder|   28|    8.99| 251.72|\n",
      "|  10/22/16|   East|   Jones|    Pen|   64|    8.99| 575.36|\n",
      "|   11/8/16|   East|  Parent|    Pen|   15|   19.99| 299.85|\n",
      "|  11/25/16|Central|  Kivell|Pen Set|   96|    4.99| 479.04|\n",
      "+----------+-------+--------+-------+-----+--------+-------+\n",
      "only showing top 20 rows\n",
      "\n"
     ]
    }
   ],
   "source": [
    "sampleDF = spark.read.csv('../datasets/sample_data.csv', header=True, inferSchema=True)\n",
    "sampleDF.printSchema()\n",
    "sampleDF.show()"
   ]
  },
  {
   "cell_type": "markdown",
   "metadata": {},
   "source": [
    "#### Transform orderDate from String to Date"
   ]
  },
  {
   "cell_type": "code",
   "execution_count": 32,
   "metadata": {},
   "outputs": [
    {
     "name": "stdout",
     "output_type": "stream",
     "text": [
      "root\n",
      " |-- OrderDate: date (nullable = true)\n",
      " |-- Region: string (nullable = true)\n",
      " |-- Rep: string (nullable = true)\n",
      " |-- Item: string (nullable = true)\n",
      " |-- Units: integer (nullable = true)\n",
      " |-- UnitCost: double (nullable = true)\n",
      " |-- Total: double (nullable = true)\n",
      "\n"
     ]
    }
   ],
   "source": [
    "import pyspark.sql.functions as f\n",
    "sampleDF = sampleDF.withColumn('OrderDate', f.to_date('OrderDate', 'MM/dd/yy'))\n",
    "\n",
    "sampleDF.printSchema()"
   ]
  },
  {
   "cell_type": "code",
   "execution_count": 33,
   "metadata": {},
   "outputs": [
    {
     "name": "stdout",
     "output_type": "stream",
     "text": [
      "+----------+-------+--------+-------+-----+--------+-------+\n",
      "| OrderDate| Region|     Rep|   Item|Units|UnitCost|  Total|\n",
      "+----------+-------+--------+-------+-----+--------+-------+\n",
      "|2016-01-06|   East|   Jones| Pencil|   95|    1.99| 189.05|\n",
      "|      null|Central|  Kivell| Binder|   50|   19.99|  999.5|\n",
      "|2016-02-09|Central| Jardine| Pencil|   36|    4.99| 179.64|\n",
      "|2016-02-26|Central|    Gill|    Pen|   27|   19.99| 539.73|\n",
      "|2016-03-15|   West| Sorvino| Pencil|   56|    2.99| 167.44|\n",
      "|2016-04-01|   East|   Jones| Binder|   60|    4.99|  299.4|\n",
      "|2016-04-18|Central| Andrews| Pencil|   75|    1.99| 149.25|\n",
      "|2016-05-05|Central| Jardine| Pencil|   90|    4.99|  449.1|\n",
      "|2016-05-22|   West|Thompson| Pencil|   32|    1.99|  63.68|\n",
      "|2016-06-08|   East|   Jones| Binder|   60|    8.99|  539.4|\n",
      "|2016-06-25|Central|  Morgan| Pencil|   90|    4.99|  449.1|\n",
      "|2016-07-12|   East|  Howard| Binder|   29|    1.99|  57.71|\n",
      "|2016-07-29|   East|  Parent| Binder|   81|   19.99|1619.19|\n",
      "|2016-08-15|   East|   Jones| Pencil|   35|    4.99| 174.65|\n",
      "|2016-09-01|Central|   Smith|   Desk|    2|   125.0|  250.0|\n",
      "|2016-09-18|   East|   Jones|Pen Set|   16|   15.99| 255.84|\n",
      "|2016-10-05|Central|  Morgan| Binder|   28|    8.99| 251.72|\n",
      "|2016-10-22|   East|   Jones|    Pen|   64|    8.99| 575.36|\n",
      "|2016-11-08|   East|  Parent|    Pen|   15|   19.99| 299.85|\n",
      "|2016-11-25|Central|  Kivell|Pen Set|   96|    4.99| 479.04|\n",
      "+----------+-------+--------+-------+-----+--------+-------+\n",
      "only showing top 20 rows\n",
      "\n"
     ]
    }
   ],
   "source": [
    "sampleDF.show()"
   ]
  },
  {
   "cell_type": "markdown",
   "metadata": {},
   "source": [
    "#### Drop null"
   ]
  },
  {
   "cell_type": "code",
   "execution_count": 34,
   "metadata": {},
   "outputs": [
    {
     "name": "stdout",
     "output_type": "stream",
     "text": [
      "+----------+-------+--------+-------+-----+--------+-------+\n",
      "| OrderDate| Region|     Rep|   Item|Units|UnitCost|  Total|\n",
      "+----------+-------+--------+-------+-----+--------+-------+\n",
      "|2016-01-06|   East|   Jones| Pencil|   95|    1.99| 189.05|\n",
      "|2016-02-09|Central| Jardine| Pencil|   36|    4.99| 179.64|\n",
      "|2016-02-26|Central|    Gill|    Pen|   27|   19.99| 539.73|\n",
      "|2016-03-15|   West| Sorvino| Pencil|   56|    2.99| 167.44|\n",
      "|2016-04-01|   East|   Jones| Binder|   60|    4.99|  299.4|\n",
      "|2016-04-18|Central| Andrews| Pencil|   75|    1.99| 149.25|\n",
      "|2016-05-05|Central| Jardine| Pencil|   90|    4.99|  449.1|\n",
      "|2016-05-22|   West|Thompson| Pencil|   32|    1.99|  63.68|\n",
      "|2016-06-08|   East|   Jones| Binder|   60|    8.99|  539.4|\n",
      "|2016-06-25|Central|  Morgan| Pencil|   90|    4.99|  449.1|\n",
      "|2016-07-12|   East|  Howard| Binder|   29|    1.99|  57.71|\n",
      "|2016-07-29|   East|  Parent| Binder|   81|   19.99|1619.19|\n",
      "|2016-08-15|   East|   Jones| Pencil|   35|    4.99| 174.65|\n",
      "|2016-09-01|Central|   Smith|   Desk|    2|   125.0|  250.0|\n",
      "|2016-09-18|   East|   Jones|Pen Set|   16|   15.99| 255.84|\n",
      "|2016-10-05|Central|  Morgan| Binder|   28|    8.99| 251.72|\n",
      "|2016-10-22|   East|   Jones|    Pen|   64|    8.99| 575.36|\n",
      "|2016-11-08|   East|  Parent|    Pen|   15|   19.99| 299.85|\n",
      "|2016-11-25|Central|  Kivell|Pen Set|   96|    4.99| 479.04|\n",
      "|2016-12-12|Central|   Smith| Pencil|   67|    1.29|  86.43|\n",
      "+----------+-------+--------+-------+-----+--------+-------+\n",
      "only showing top 20 rows\n",
      "\n"
     ]
    }
   ],
   "source": [
    "sampleDF.dropna(subset=['OrderDate']).show()"
   ]
  },
  {
   "cell_type": "markdown",
   "metadata": {},
   "source": [
    "#### Changing data within the Region field - East as E"
   ]
  },
  {
   "cell_type": "code",
   "execution_count": 36,
   "metadata": {},
   "outputs": [
    {
     "name": "stdout",
     "output_type": "stream",
     "text": [
      "+-------+\n",
      "| Region|\n",
      "+-------+\n",
      "|      E|\n",
      "|Central|\n",
      "|Central|\n",
      "|Central|\n",
      "|   West|\n",
      "|      E|\n",
      "|Central|\n",
      "|Central|\n",
      "|   West|\n",
      "|      E|\n",
      "|Central|\n",
      "|      E|\n",
      "|      E|\n",
      "|      E|\n",
      "|Central|\n",
      "|      E|\n",
      "|Central|\n",
      "|      E|\n",
      "|      E|\n",
      "|Central|\n",
      "+-------+\n",
      "only showing top 20 rows\n",
      "\n",
      "+----------+------+------+-------+-----+--------+-------+\n",
      "| OrderDate|Region|   Rep|   Item|Units|UnitCost|  Total|\n",
      "+----------+------+------+-------+-----+--------+-------+\n",
      "|2016-01-06|     E| Jones| Pencil|   95|    1.99| 189.05|\n",
      "|2016-04-01|     E| Jones| Binder|   60|    4.99|  299.4|\n",
      "|2016-06-08|     E| Jones| Binder|   60|    8.99|  539.4|\n",
      "|2016-07-12|     E|Howard| Binder|   29|    1.99|  57.71|\n",
      "|2016-07-29|     E|Parent| Binder|   81|   19.99|1619.19|\n",
      "|2016-08-15|     E| Jones| Pencil|   35|    4.99| 174.65|\n",
      "|2016-09-18|     E| Jones|Pen Set|   16|   15.99| 255.84|\n",
      "|2016-10-22|     E| Jones|    Pen|   64|    8.99| 575.36|\n",
      "|2016-11-08|     E|Parent|    Pen|   15|   19.99| 299.85|\n",
      "|2016-12-29|     E|Parent|Pen Set|   74|   15.99|1183.26|\n",
      "|2017-02-18|     E| Jones| Binder|    4|    4.99|  19.96|\n",
      "|2017-04-27|     E|Howard|    Pen|   96|    4.99| 479.04|\n",
      "|2017-07-04|     E| Jones|Pen Set|   62|    4.99| 309.38|\n",
      "+----------+------+------+-------+-----+--------+-------+\n",
      "\n"
     ]
    }
   ],
   "source": [
    "sampleDF.select(f.col('Region')).replace(\"East\", \"E\").show()\n",
    "\n",
    "sampleDF.where(\"Region = 'East'\").replace(\"East\", \"E\").show()"
   ]
  },
  {
   "cell_type": "code",
   "execution_count": null,
   "metadata": {},
   "outputs": [],
   "source": []
  }
 ],
 "metadata": {
  "kernelspec": {
   "display_name": "Python 3",
   "language": "python",
   "name": "python3"
  },
  "language_info": {
   "codemirror_mode": {
    "name": "ipython",
    "version": 3
   },
   "file_extension": ".py",
   "mimetype": "text/x-python",
   "name": "python",
   "nbconvert_exporter": "python",
   "pygments_lexer": "ipython3",
   "version": "3.7.4"
  }
 },
 "nbformat": 4,
 "nbformat_minor": 2
}
