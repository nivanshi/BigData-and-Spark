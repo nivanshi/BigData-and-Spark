{
 "cells": [
  {
   "cell_type": "code",
   "execution_count": 1,
   "metadata": {},
   "outputs": [
    {
     "name": "stdout",
     "output_type": "stream",
     "text": [
      "Collecting pyMongo\n",
      "  Downloading https://files.pythonhosted.org/packages/5b/df/d0f82279467c72dd0c8cd1908e04a7fb56145a5d222704722e2593af79f1/pymongo-3.10.1-cp37-cp37m-win_amd64.whl (354kB)\n",
      "Installing collected packages: pyMongo\n",
      "Successfully installed pyMongo-3.10.1\n"
     ]
    }
   ],
   "source": [
    "!pip install pyMongo"
   ]
  },
  {
   "cell_type": "code",
   "execution_count": null,
   "metadata": {},
   "outputs": [],
   "source": []
  }
 ],
 "metadata": {
  "kernelspec": {
   "display_name": "Python 3",
   "language": "python",
   "name": "python3"
  },
  "language_info": {
   "codemirror_mode": {
    "name": "ipython",
    "version": 3
   },
   "file_extension": ".py",
   "mimetype": "text/x-python",
   "name": "python",
   "nbconvert_exporter": "python",
   "pygments_lexer": "ipython3",
   "version": "3.7.3"
  }
 },
 "nbformat": 4,
 "nbformat_minor": 2
}
